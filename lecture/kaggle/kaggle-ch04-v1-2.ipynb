{
 "cells": [
  {
   "cell_type": "markdown",
   "id": "6b6dc051",
   "metadata": {},
   "source": []
  },
  {
   "cell_type": "markdown",
   "id": "7897f33e",
   "metadata": {
    "papermill": {
     "duration": 0.016282,
     "end_time": "2024-02-14T12:42:55.693774",
     "exception": false,
     "start_time": "2024-02-14T12:42:55.677492",
     "status": "completed"
    },
    "tags": []
   },
   "source": [
    "# 2024/02/14更新\n",
    "- 書籍発売後にライブラリのバージョンアップが生じたため、書籍のコードが一部動作しなくなりました\n",
    "- このため、書籍のコードが動作するようにコードを一部変更\n",
    "    - 変更を最小化するため、基本的には書籍に合わせてライブラリをダウングレード\n",
    "    - 名称変更となったライブラリは最新のライブラリ名に変更\n",
    "- なお、一部ですが、2024/02/14時点の最新ライブラリでも動作するコードをコメントアウトで同じセルに参考までに掲載しました。"
   ]
  },
  {
   "cell_type": "code",
   "execution_count": null,
   "id": "fe23455d",
   "metadata": {
    "execution": {
     "iopub.execute_input": "2024-02-14T12:42:55.726283Z",
     "iopub.status.busy": "2024-02-14T12:42:55.725902Z",
     "iopub.status.idle": "2024-02-14T12:43:55.875185Z",
     "shell.execute_reply": "2024-02-14T12:43:55.873833Z"
    },
    "papermill": {
     "duration": 60.168917,
     "end_time": "2024-02-14T12:43:55.878117",
     "exception": false,
     "start_time": "2024-02-14T12:42:55.709200",
     "status": "completed"
    },
    "tags": []
   },
   "outputs": [],
   "source": [
    "# 引数が大きく変更されているため、ダウングレードで対応\n",
    "# 最初に実行してください。\n",
    "!pip install pandas==1.3.5\n",
    "!pip install lightgbm==3.3.1\n",
    "!pip install scikit-learn==1.0.2\n",
    "\n",
    "# なお、LightGBMの最新版ではCallbackが使われており、過去バージョンと大きく書き方が変化。最新版を使い方を知りたい場合は公式ページを参照してください。\n",
    "# https://lightgbm.readthedocs.io/en/latest/index.html"
   ]
  },
  {
   "cell_type": "markdown",
   "id": "e4fde5c4",
   "metadata": {
    "papermill": {
     "duration": 0.019485,
     "end_time": "2024-02-14T12:43:55.916337",
     "exception": false,
     "start_time": "2024-02-14T12:43:55.896852",
     "status": "completed"
    },
    "tags": []
   },
   "source": [
    "# Kaggleで磨く 機械学習の実践力\n",
    "# 第4章 ベースライン作成"
   ]
  },
  {
   "cell_type": "markdown",
   "id": "83283a1b",
   "metadata": {
    "papermill": {
     "duration": 0.018179,
     "end_time": "2024-02-14T12:43:55.953117",
     "exception": false,
     "start_time": "2024-02-14T12:43:55.934938",
     "status": "completed"
    },
    "tags": []
   },
   "source": [
    "# 4.3 ファイルの読み込み\n",
    "#### スクリプト4-1: ライブラリの読み込み"
   ]
  },
  {
   "cell_type": "code",
   "execution_count": null,
   "id": "cf799014",
   "metadata": {
    "_cell_guid": "b1076dfc-b9ad-4769-8c92-a6c4dae69d19",
    "_uuid": "8f2839f25d086af736a60e9eeb907d3b93b6e0e5",
    "execution": {
     "iopub.execute_input": "2024-02-14T12:43:55.992456Z",
     "iopub.status.busy": "2024-02-14T12:43:55.992040Z",
     "iopub.status.idle": "2024-02-14T12:44:22.494099Z",
     "shell.execute_reply": "2024-02-14T12:44:22.492769Z"
    },
    "papermill": {
     "duration": 26.525227,
     "end_time": "2024-02-14T12:44:22.496952",
     "exception": false,
     "start_time": "2024-02-14T12:43:55.971725",
     "status": "completed"
    },
    "tags": []
   },
   "outputs": [],
   "source": [
    "import numpy as np\n",
    "import pandas as pd\n",
    "import os\n",
    "import pickle\n",
    "import gc \n",
    "\n",
    "# 分布確認\n",
    "# import pandas_profiling as pdp\n",
    "import ydata_profiling as pdp # ライブラリ名称が変更になったため\n",
    "\n",
    "# 可視化\n",
    "import matplotlib.pyplot as plt\n",
    "\n",
    "# 前処理\n",
    "from sklearn.preprocessing import StandardScaler, MinMaxScaler, LabelEncoder, OneHotEncoder\n",
    "\n",
    "# バリデーション\n",
    "from sklearn.model_selection import train_test_split, KFold, StratifiedKFold\n",
    "\n",
    "# 評価指標\n",
    "from sklearn.metrics import accuracy_score, roc_auc_score, confusion_matrix\n",
    "\n",
    "# モデリング: lightgbm\n",
    "import lightgbm as lgb\n",
    "\n",
    "import warnings\n",
    "warnings.filterwarnings(\"ignore\")\n",
    "\n",
    "# matplotilbで日本語表示したい場合はこれをinstallしてインポートする\n",
    "!pip install japanize-matplotlib\n",
    "import japanize_matplotlib\n",
    "%matplotlib inline"
   ]
  },
  {
   "cell_type": "markdown",
   "id": "0e169b81",
   "metadata": {
    "papermill": {
     "duration": 0.020211,
     "end_time": "2024-02-14T12:44:22.537296",
     "exception": false,
     "start_time": "2024-02-14T12:44:22.517085",
     "status": "completed"
    },
    "tags": []
   },
   "source": [
    "#### スクリプト4-2: ファイルの読み込み"
   ]
  },
  {
   "cell_type": "code",
   "execution_count": null,
   "id": "96f812a9",
   "metadata": {
    "execution": {
     "iopub.execute_input": "2024-02-14T12:44:22.579361Z",
     "iopub.status.busy": "2024-02-14T12:44:22.578719Z",
     "iopub.status.idle": "2024-02-14T12:44:22.617238Z",
     "shell.execute_reply": "2024-02-14T12:44:22.616100Z"
    },
    "papermill": {
     "duration": 0.06255,
     "end_time": "2024-02-14T12:44:22.619613",
     "exception": false,
     "start_time": "2024-02-14T12:44:22.557063",
     "status": "completed"
    },
    "tags": []
   },
   "outputs": [],
   "source": [
    "df_train = pd.read_csv(\"../input/titanic/train.csv\")\n",
    "df_train.head()"
   ]
  },
  {
   "cell_type": "markdown",
   "id": "c24bd8f2",
   "metadata": {
    "papermill": {
     "duration": 0.019906,
     "end_time": "2024-02-14T12:44:22.660239",
     "exception": false,
     "start_time": "2024-02-14T12:44:22.640333",
     "status": "completed"
    },
    "tags": []
   },
   "source": [
    "# 4.4 データの確認（簡易）\n",
    "## 4.4.1 レコード数とカラム数の確認"
   ]
  },
  {
   "cell_type": "markdown",
   "id": "a286ba96",
   "metadata": {
    "papermill": {
     "duration": 0.019822,
     "end_time": "2024-02-14T12:44:22.700074",
     "exception": false,
     "start_time": "2024-02-14T12:44:22.680252",
     "status": "completed"
    },
    "tags": []
   },
   "source": [
    "#### スクリプト4-3: レコード数とカラム数の確認"
   ]
  },
  {
   "cell_type": "code",
   "execution_count": null,
   "id": "424d687f",
   "metadata": {
    "execution": {
     "iopub.execute_input": "2024-02-14T12:44:22.741920Z",
     "iopub.status.busy": "2024-02-14T12:44:22.741497Z",
     "iopub.status.idle": "2024-02-14T12:44:22.747472Z",
     "shell.execute_reply": "2024-02-14T12:44:22.746279Z"
    },
    "papermill": {
     "duration": 0.029901,
     "end_time": "2024-02-14T12:44:22.749929",
     "exception": false,
     "start_time": "2024-02-14T12:44:22.720028",
     "status": "completed"
    },
    "tags": []
   },
   "outputs": [],
   "source": [
    "print(df_train.shape)\n",
    "print(\"レコード数:\", len(df_train))\n",
    "print(\"カラム数:\", len(df_train.columns))"
   ]
  },
  {
   "cell_type": "markdown",
   "id": "78d02cc0",
   "metadata": {
    "papermill": {
     "duration": 0.01998,
     "end_time": "2024-02-14T12:44:22.789931",
     "exception": false,
     "start_time": "2024-02-14T12:44:22.769951",
     "status": "completed"
    },
    "tags": []
   },
   "source": [
    "## 4.4.2 カラムごとのデータの種類の確認"
   ]
  },
  {
   "cell_type": "markdown",
   "id": "34c3fcaf",
   "metadata": {
    "papermill": {
     "duration": 0.032245,
     "end_time": "2024-02-14T12:44:22.842271",
     "exception": false,
     "start_time": "2024-02-14T12:44:22.810026",
     "status": "completed"
    },
    "tags": []
   },
   "source": [
    "#### スクリプト4-4: データの確認"
   ]
  },
  {
   "cell_type": "code",
   "execution_count": null,
   "id": "e21309e9",
   "metadata": {
    "execution": {
     "iopub.execute_input": "2024-02-14T12:44:22.906473Z",
     "iopub.status.busy": "2024-02-14T12:44:22.905794Z",
     "iopub.status.idle": "2024-02-14T12:44:22.930538Z",
     "shell.execute_reply": "2024-02-14T12:44:22.928953Z"
    },
    "papermill": {
     "duration": 0.058505,
     "end_time": "2024-02-14T12:44:22.933171",
     "exception": false,
     "start_time": "2024-02-14T12:44:22.874666",
     "status": "completed"
    },
    "tags": []
   },
   "outputs": [],
   "source": [
    "df_train.info()"
   ]
  },
  {
   "cell_type": "markdown",
   "id": "eb405c9a",
   "metadata": {
    "papermill": {
     "duration": 0.02671,
     "end_time": "2024-02-14T12:44:22.982638",
     "exception": false,
     "start_time": "2024-02-14T12:44:22.955928",
     "status": "completed"
    },
    "tags": []
   },
   "source": [
    "#### スクリプト4-5: データ型の変換"
   ]
  },
  {
   "cell_type": "code",
   "execution_count": null,
   "id": "321d2617",
   "metadata": {
    "execution": {
     "iopub.execute_input": "2024-02-14T12:44:23.025550Z",
     "iopub.status.busy": "2024-02-14T12:44:23.024847Z",
     "iopub.status.idle": "2024-02-14T12:44:23.038104Z",
     "shell.execute_reply": "2024-02-14T12:44:23.036810Z"
    },
    "papermill": {
     "duration": 0.037473,
     "end_time": "2024-02-14T12:44:23.040562",
     "exception": false,
     "start_time": "2024-02-14T12:44:23.003089",
     "status": "completed"
    },
    "tags": []
   },
   "outputs": [],
   "source": [
    "df_train[\"Pclass\"] = df_train[\"Pclass\"].astype(object)\n",
    "df_train[[\"Pclass\"]].info()"
   ]
  },
  {
   "cell_type": "markdown",
   "id": "8c135961",
   "metadata": {
    "papermill": {
     "duration": 0.020343,
     "end_time": "2024-02-14T12:44:23.081349",
     "exception": false,
     "start_time": "2024-02-14T12:44:23.061006",
     "status": "completed"
    },
    "tags": []
   },
   "source": [
    "#### スクリプト4-6: データ型をobject型からint型に戻す"
   ]
  },
  {
   "cell_type": "code",
   "execution_count": null,
   "id": "a0228b03",
   "metadata": {
    "execution": {
     "iopub.execute_input": "2024-02-14T12:44:23.124054Z",
     "iopub.status.busy": "2024-02-14T12:44:23.123371Z",
     "iopub.status.idle": "2024-02-14T12:44:23.137461Z",
     "shell.execute_reply": "2024-02-14T12:44:23.136030Z"
    },
    "papermill": {
     "duration": 0.038309,
     "end_time": "2024-02-14T12:44:23.140128",
     "exception": false,
     "start_time": "2024-02-14T12:44:23.101819",
     "status": "completed"
    },
    "tags": []
   },
   "outputs": [],
   "source": [
    "df_train[\"Pclass\"] = df_train[\"Pclass\"].astype(np.int64)\n",
    "df_train[[\"Pclass\"]].info()"
   ]
  },
  {
   "cell_type": "markdown",
   "id": "9a293090",
   "metadata": {
    "papermill": {
     "duration": 0.020662,
     "end_time": "2024-02-14T12:44:23.181499",
     "exception": false,
     "start_time": "2024-02-14T12:44:23.160837",
     "status": "completed"
    },
    "tags": []
   },
   "source": [
    "## 4.4.3 欠損値の確認\n",
    "#### スクリプト4-7: 欠損値の確認"
   ]
  },
  {
   "cell_type": "code",
   "execution_count": null,
   "id": "39293ab0",
   "metadata": {
    "execution": {
     "iopub.execute_input": "2024-02-14T12:44:23.225494Z",
     "iopub.status.busy": "2024-02-14T12:44:23.224669Z",
     "iopub.status.idle": "2024-02-14T12:44:23.235148Z",
     "shell.execute_reply": "2024-02-14T12:44:23.234052Z"
    },
    "papermill": {
     "duration": 0.035274,
     "end_time": "2024-02-14T12:44:23.237463",
     "exception": false,
     "start_time": "2024-02-14T12:44:23.202189",
     "status": "completed"
    },
    "tags": []
   },
   "outputs": [],
   "source": [
    "df_train.isnull().sum()"
   ]
  },
  {
   "cell_type": "markdown",
   "id": "a8ad417b",
   "metadata": {
    "papermill": {
     "duration": 0.020582,
     "end_time": "2024-02-14T12:44:23.278986",
     "exception": false,
     "start_time": "2024-02-14T12:44:23.258404",
     "status": "completed"
    },
    "tags": []
   },
   "source": [
    "# 4.5 データセット作成\n",
    "#### スクリプト4-8: データセット作成"
   ]
  },
  {
   "cell_type": "code",
   "execution_count": null,
   "id": "16855a79",
   "metadata": {
    "execution": {
     "iopub.execute_input": "2024-02-14T12:44:23.322967Z",
     "iopub.status.busy": "2024-02-14T12:44:23.322503Z",
     "iopub.status.idle": "2024-02-14T12:44:23.331072Z",
     "shell.execute_reply": "2024-02-14T12:44:23.329885Z"
    },
    "papermill": {
     "duration": 0.033535,
     "end_time": "2024-02-14T12:44:23.333581",
     "exception": false,
     "start_time": "2024-02-14T12:44:23.300046",
     "status": "completed"
    },
    "tags": []
   },
   "outputs": [],
   "source": [
    "x_train, y_train, id_train = df_train[[\"Pclass\", \"Fare\"]], \\\n",
    "                             df_train[[\"Survived\"]], \\\n",
    "                             df_train[[\"PassengerId\"]]\n",
    "print(x_train.shape, y_train.shape, id_train.shape)"
   ]
  },
  {
   "cell_type": "markdown",
   "id": "38846487",
   "metadata": {
    "papermill": {
     "duration": 0.021167,
     "end_time": "2024-02-14T12:44:23.437596",
     "exception": false,
     "start_time": "2024-02-14T12:44:23.416429",
     "status": "completed"
    },
    "tags": []
   },
   "source": [
    "# 4.6 バリデーション設計\n",
    "## 4.6.2 ホールドアウト検証と交差検証\n",
    "#### スクリプト4-9: ホールドアウト検証の実行"
   ]
  },
  {
   "cell_type": "code",
   "execution_count": null,
   "id": "12874e42",
   "metadata": {
    "execution": {
     "iopub.execute_input": "2024-02-14T12:44:23.482750Z",
     "iopub.status.busy": "2024-02-14T12:44:23.481581Z",
     "iopub.status.idle": "2024-02-14T12:44:23.502071Z",
     "shell.execute_reply": "2024-02-14T12:44:23.500792Z"
    },
    "papermill": {
     "duration": 0.045801,
     "end_time": "2024-02-14T12:44:23.504848",
     "exception": false,
     "start_time": "2024-02-14T12:44:23.459047",
     "status": "completed"
    },
    "tags": []
   },
   "outputs": [],
   "source": [
    "x_tr, x_va, y_tr, y_va = train_test_split(x_train,\n",
    "                                          y_train,\n",
    "                                          test_size=0.2,\n",
    "                                          shuffle=True,\n",
    "                                          stratify=y_train, \n",
    "                                          random_state=123)\n",
    "print(x_tr.shape, y_tr.shape)\n",
    "print(x_va.shape, y_va.shape)\n",
    "print(\"y_train:{:.3f}, y_tr:{:.3f}, y_va:{:.3f}\".format(\n",
    "    y_train[\"Survived\"].mean(),\n",
    "    y_tr[\"Survived\"].mean(),\n",
    "    y_va[\"Survived\"].mean(),\n",
    "))"
   ]
  },
  {
   "cell_type": "markdown",
   "id": "546313df",
   "metadata": {
    "papermill": {
     "duration": 0.02251,
     "end_time": "2024-02-14T12:44:23.548935",
     "exception": false,
     "start_time": "2024-02-14T12:44:23.526425",
     "status": "completed"
    },
    "tags": []
   },
   "source": [
    "#### スクリプト4-10: クロスバリデーションの実行"
   ]
  },
  {
   "cell_type": "code",
   "execution_count": null,
   "id": "93cc7b99",
   "metadata": {
    "execution": {
     "iopub.execute_input": "2024-02-14T12:44:23.596158Z",
     "iopub.status.busy": "2024-02-14T12:44:23.595063Z",
     "iopub.status.idle": "2024-02-14T12:44:23.620953Z",
     "shell.execute_reply": "2024-02-14T12:44:23.619546Z"
    },
    "papermill": {
     "duration": 0.051426,
     "end_time": "2024-02-14T12:44:23.623556",
     "exception": false,
     "start_time": "2024-02-14T12:44:23.572130",
     "status": "completed"
    },
    "tags": []
   },
   "outputs": [],
   "source": [
    "n_splits = 5\n",
    "cv = list(StratifiedKFold(n_splits=n_splits, shuffle=True, random_state=123).split(x_train, y_train))\n",
    "for nfold in np.arange(n_splits):\n",
    "    print(\"-\"*20, nfold, \"-\"*20)\n",
    "    idx_tr, idx_va = cv[nfold][0], cv[nfold][1]\n",
    "    x_tr, y_tr = x_train.loc[idx_tr, :], y_train.loc[idx_tr, :]\n",
    "    x_va, y_va = x_train.loc[idx_va, :], y_train.loc[idx_va, :]\n",
    "    print(x_tr.shape, y_tr.shape)\n",
    "    print(x_va.shape, y_va.shape)\n",
    "    print(\"y_train:{:.3f}, y_tr:{:.3f}, y_va:{:.3f}\".format(\n",
    "        y_train[\"Survived\"].mean(),\n",
    "        y_tr[\"Survived\"].mean(),\n",
    "        y_va[\"Survived\"].mean(),\n",
    "    ))\n",
    "    \n",
    "    # ここでモデル学習（ここは次節にて説明するため省略）"
   ]
  },
  {
   "cell_type": "markdown",
   "id": "e812acef",
   "metadata": {
    "papermill": {
     "duration": 0.021539,
     "end_time": "2024-02-14T12:44:23.666854",
     "exception": false,
     "start_time": "2024-02-14T12:44:23.645315",
     "status": "completed"
    },
    "tags": []
   },
   "source": [
    "# 4.7 モデル学習（勾配ブースティング）\n",
    "## 4.7.1 ホールドアウト検証の場合\n",
    "#### スクリプト4-11: データセットの作成（スクリプト4-9の再掲）"
   ]
  },
  {
   "cell_type": "code",
   "execution_count": null,
   "id": "86086b20",
   "metadata": {
    "execution": {
     "iopub.execute_input": "2024-02-14T12:44:23.711271Z",
     "iopub.status.busy": "2024-02-14T12:44:23.710870Z",
     "iopub.status.idle": "2024-02-14T12:44:23.730445Z",
     "shell.execute_reply": "2024-02-14T12:44:23.729152Z"
    },
    "papermill": {
     "duration": 0.044635,
     "end_time": "2024-02-14T12:44:23.732945",
     "exception": false,
     "start_time": "2024-02-14T12:44:23.688310",
     "status": "completed"
    },
    "tags": []
   },
   "outputs": [],
   "source": [
    "x_tr, x_va, y_tr, y_va = train_test_split(x_train,\n",
    "                                          y_train,\n",
    "                                          test_size=0.2,\n",
    "                                          shuffle=True,\n",
    "                                          stratify=y_train, \n",
    "                                          random_state=123)\n",
    "print(x_tr.shape, y_tr.shape)\n",
    "print(x_va.shape, y_va.shape)\n",
    "print(\"y_train:{:.3f}, y_tr:{:.3f}, y_va:{:.3f}\".format(\n",
    "    y_train[\"Survived\"].mean(),\n",
    "    y_tr[\"Survived\"].mean(),\n",
    "    y_va[\"Survived\"].mean(),\n",
    "))"
   ]
  },
  {
   "cell_type": "markdown",
   "id": "669f8e92",
   "metadata": {
    "papermill": {
     "duration": 0.02131,
     "end_time": "2024-02-14T12:44:23.776109",
     "exception": false,
     "start_time": "2024-02-14T12:44:23.754799",
     "status": "completed"
    },
    "tags": []
   },
   "source": [
    "#### スクリプト4-12: モデル学習（ホールドアウト検証の場合）"
   ]
  },
  {
   "cell_type": "code",
   "execution_count": null,
   "id": "98a9d4ae",
   "metadata": {
    "execution": {
     "iopub.execute_input": "2024-02-14T12:44:23.820268Z",
     "iopub.status.busy": "2024-02-14T12:44:23.819886Z",
     "iopub.status.idle": "2024-02-14T12:44:24.225580Z",
     "shell.execute_reply": "2024-02-14T12:44:24.224462Z"
    },
    "papermill": {
     "duration": 0.430793,
     "end_time": "2024-02-14T12:44:24.228020",
     "exception": false,
     "start_time": "2024-02-14T12:44:23.797227",
     "status": "completed"
    },
    "tags": []
   },
   "outputs": [],
   "source": [
    "# ハイパーパラメータ\n",
    "params = {\n",
    "    'boosting_type': 'gbdt',\n",
    "    'objective': 'binary', \n",
    "    'metric': 'auc',\n",
    "    'learning_rate': 0.1,\n",
    "    'num_leaves': 16,\n",
    "    'n_estimators': 100000,\n",
    "    \"random_state\": 123,\n",
    "    \"importance_type\": \"gain\",\n",
    "}\n",
    "\n",
    "model = lgb.LGBMClassifier(**params)\n",
    "model.fit(x_tr,\n",
    "          y_tr,\n",
    "          eval_set=[(x_tr,y_tr), (x_va,y_va)],\n",
    "          early_stopping_rounds=100,\n",
    "          verbose=10,\n",
    "         )\n",
    "\n",
    "# # 2024/02/14環境で動かしたい場合はこのコードを利用してください。\n",
    "# model.fit(x_tr,\n",
    "#           y_tr,\n",
    "#           eval_set=[(x_tr,y_tr), (x_va,y_va)],\n",
    "#           callbacks=[\n",
    "#               lgb.early_stopping(stopping_rounds=100, verbose=True),\n",
    "#               lgb.log_evaluation(10),\n",
    "#           ],\n",
    "#          )"
   ]
  },
  {
   "cell_type": "markdown",
   "id": "e5fd77a9",
   "metadata": {
    "papermill": {
     "duration": 0.021734,
     "end_time": "2024-02-14T12:44:24.271313",
     "exception": false,
     "start_time": "2024-02-14T12:44:24.249579",
     "status": "completed"
    },
    "tags": []
   },
   "source": [
    "#### スクリプト4-13: 精度の評価"
   ]
  },
  {
   "cell_type": "code",
   "execution_count": null,
   "id": "995c136e",
   "metadata": {
    "execution": {
     "iopub.execute_input": "2024-02-14T12:44:24.316729Z",
     "iopub.status.busy": "2024-02-14T12:44:24.316336Z",
     "iopub.status.idle": "2024-02-14T12:44:24.331112Z",
     "shell.execute_reply": "2024-02-14T12:44:24.329870Z"
    },
    "papermill": {
     "duration": 0.040902,
     "end_time": "2024-02-14T12:44:24.333845",
     "exception": false,
     "start_time": "2024-02-14T12:44:24.292943",
     "status": "completed"
    },
    "tags": []
   },
   "outputs": [],
   "source": [
    "y_tr_pred = model.predict_proba(x_tr)[:,1]\n",
    "y_va_pred = model.predict_proba(x_va)[:,1]\n",
    "\n",
    "metric_tr = accuracy_score(y_tr, np.where(y_tr_pred>=0.5, 1, 0))\n",
    "metric_va = accuracy_score(y_va, np.where(y_va_pred>=0.5, 1, 0))\n",
    "\n",
    "print(\"[accuracy] tr: {:.2f}, va: {:.2f}\".format(metric_tr, metric_va))"
   ]
  },
  {
   "cell_type": "markdown",
   "id": "cf0fbcd1",
   "metadata": {
    "papermill": {
     "duration": 0.021692,
     "end_time": "2024-02-14T12:44:24.378868",
     "exception": false,
     "start_time": "2024-02-14T12:44:24.357176",
     "status": "completed"
    },
    "tags": []
   },
   "source": [
    "#### スクリプト4-14: 説明変数の重要度の算出"
   ]
  },
  {
   "cell_type": "code",
   "execution_count": null,
   "id": "9f4f73b6",
   "metadata": {
    "execution": {
     "iopub.execute_input": "2024-02-14T12:44:24.424127Z",
     "iopub.status.busy": "2024-02-14T12:44:24.423705Z",
     "iopub.status.idle": "2024-02-14T12:44:24.437005Z",
     "shell.execute_reply": "2024-02-14T12:44:24.435819Z"
    },
    "papermill": {
     "duration": 0.039123,
     "end_time": "2024-02-14T12:44:24.439649",
     "exception": false,
     "start_time": "2024-02-14T12:44:24.400526",
     "status": "completed"
    },
    "tags": []
   },
   "outputs": [],
   "source": [
    "imp = pd.DataFrame({\"col\":x_train.columns, \"imp\":model.feature_importances_})\n",
    "imp.sort_values(\"imp\", ascending=False, ignore_index=True)"
   ]
  },
  {
   "cell_type": "markdown",
   "id": "d2e9c10d",
   "metadata": {
    "papermill": {
     "duration": 0.021977,
     "end_time": "2024-02-14T12:44:24.484364",
     "exception": false,
     "start_time": "2024-02-14T12:44:24.462387",
     "status": "completed"
    },
    "tags": []
   },
   "source": [
    "## 4.7.2 クロスバリデーションの場合\n",
    "#### スクリプト4-15: モデル学習の実行（クロスバリデーションの場合）"
   ]
  },
  {
   "cell_type": "code",
   "execution_count": null,
   "id": "cc7d7937",
   "metadata": {
    "execution": {
     "iopub.execute_input": "2024-02-14T12:44:24.532034Z",
     "iopub.status.busy": "2024-02-14T12:44:24.530925Z",
     "iopub.status.idle": "2024-02-14T12:44:26.802594Z",
     "shell.execute_reply": "2024-02-14T12:44:26.801263Z"
    },
    "papermill": {
     "duration": 2.298822,
     "end_time": "2024-02-14T12:44:26.805263",
     "exception": false,
     "start_time": "2024-02-14T12:44:24.506441",
     "status": "completed"
    },
    "tags": []
   },
   "outputs": [],
   "source": [
    "params = {\n",
    "    'boosting_type': 'gbdt',\n",
    "    'objective': 'binary', \n",
    "    'metric': 'auc',\n",
    "    'learning_rate': 0.1,\n",
    "    'num_leaves': 16,\n",
    "    'n_estimators': 100000,\n",
    "    \"random_state\": 123,\n",
    "    \"importance_type\": \"gain\",\n",
    "}\n",
    "    \n",
    "metrics = []\n",
    "imp = pd.DataFrame()\n",
    "\n",
    "n_splits = 5\n",
    "cv = list(StratifiedKFold(n_splits=n_splits, shuffle=True, random_state=123).split(x_train, y_train))\n",
    "\n",
    "for nfold in np.arange(n_splits):\n",
    "    print(\"-\"*20, nfold, \"-\"*20)\n",
    "    idx_tr, idx_va = cv[nfold][0], cv[nfold][1]\n",
    "    x_tr, y_tr = x_train.loc[idx_tr, :], y_train.loc[idx_tr, :]\n",
    "    x_va, y_va = x_train.loc[idx_va, :], y_train.loc[idx_va, :]\n",
    "    print(x_tr.shape, y_tr.shape)\n",
    "    print(x_va.shape, y_va.shape)\n",
    "    print(\"y_train:{:.3f}, y_tr:{:.3f}, y_va:{:.3f}\".format(\n",
    "        y_train[\"Survived\"].mean(),\n",
    "        y_tr[\"Survived\"].mean(),\n",
    "        y_va[\"Survived\"].mean(),\n",
    "    ))\n",
    "    \n",
    "    model = lgb.LGBMClassifier(**params)\n",
    "    model.fit(x_tr,\n",
    "              y_tr,\n",
    "              eval_set=[(x_tr,y_tr), (x_va,y_va)],\n",
    "              early_stopping_rounds=100,\n",
    "              verbose=100,\n",
    "             )\n",
    "    \n",
    "#     # 2024/02/14環境で動かしたい場合はこのコードを利用してください。\n",
    "#     model.fit(x_tr,\n",
    "#               y_tr,\n",
    "#               eval_set=[(x_tr,y_tr), (x_va,y_va)],\n",
    "#               callbacks=[\n",
    "#                   lgb.early_stopping(stopping_rounds=100, verbose=True),\n",
    "#                   lgb.log_evaluation(100),\n",
    "#               ],\n",
    "#              )    \n",
    "\n",
    "    y_tr_pred = model.predict(x_tr)\n",
    "    y_va_pred = model.predict(x_va)\n",
    "    metric_tr = accuracy_score(y_tr, y_tr_pred)\n",
    "    metric_va = accuracy_score(y_va, y_va_pred)\n",
    "    print(\"[accuracy] tr: {:.2f}, va: {:.2f}\".format(metric_tr, metric_va))    \n",
    "    metrics.append([nfold, metric_tr, metric_va])\n",
    "    \n",
    "    _imp = pd.DataFrame({\"col\":x_train.columns, \"imp\":model.feature_importances_, \"nfold\":nfold})\n",
    "    imp = pd.concat([imp, _imp], axis=0, ignore_index=True)\n",
    "\n",
    "print(\"-\"*20, \"result\", \"-\"*20)\n",
    "metrics = np.array(metrics)\n",
    "print(metrics)\n",
    "\n",
    "print(\"[cv ] tr: {:.2f}+-{:.2f}, va: {:.2f}+-{:.2f}\".format(\n",
    "    metrics[:,1].mean(), metrics[:,1].std(),\n",
    "    metrics[:,2].mean(), metrics[:,2].std(),\n",
    "))\n",
    "\n",
    "imp = imp.groupby(\"col\")[\"imp\"].agg([\"mean\", \"std\"])\n",
    "imp.columns = [\"imp\", \"imp_std\"]\n",
    "imp = imp.reset_index(drop=False)\n",
    "\n",
    "print(\"Done.\")"
   ]
  },
  {
   "cell_type": "markdown",
   "id": "8f10a719",
   "metadata": {
    "papermill": {
     "duration": 0.023253,
     "end_time": "2024-02-14T12:44:26.854294",
     "exception": false,
     "start_time": "2024-02-14T12:44:26.831041",
     "status": "completed"
    },
    "tags": []
   },
   "source": [
    "#### スクリプト4-16: 説明変数の重要度の算出"
   ]
  },
  {
   "cell_type": "code",
   "execution_count": null,
   "id": "17b1197e",
   "metadata": {
    "execution": {
     "iopub.execute_input": "2024-02-14T12:44:26.904000Z",
     "iopub.status.busy": "2024-02-14T12:44:26.903321Z",
     "iopub.status.idle": "2024-02-14T12:44:26.916031Z",
     "shell.execute_reply": "2024-02-14T12:44:26.914831Z"
    },
    "papermill": {
     "duration": 0.04063,
     "end_time": "2024-02-14T12:44:26.918444",
     "exception": false,
     "start_time": "2024-02-14T12:44:26.877814",
     "status": "completed"
    },
    "tags": []
   },
   "outputs": [],
   "source": [
    "imp.sort_values(\"imp\", ascending=False, ignore_index=True)"
   ]
  },
  {
   "cell_type": "markdown",
   "id": "09be5b96",
   "metadata": {
    "papermill": {
     "duration": 0.023351,
     "end_time": "2024-02-14T12:44:26.966214",
     "exception": false,
     "start_time": "2024-02-14T12:44:26.942863",
     "status": "completed"
    },
    "tags": []
   },
   "source": [
    "## 4.7.3 ベースラインの評価\n",
    "#### スクリプト4-17: ベースライン検証用データの作成"
   ]
  },
  {
   "cell_type": "code",
   "execution_count": null,
   "id": "be777864",
   "metadata": {
    "execution": {
     "iopub.execute_input": "2024-02-14T12:44:27.014629Z",
     "iopub.status.busy": "2024-02-14T12:44:27.013988Z",
     "iopub.status.idle": "2024-02-14T12:44:27.030591Z",
     "shell.execute_reply": "2024-02-14T12:44:27.029395Z"
    },
    "papermill": {
     "duration": 0.043726,
     "end_time": "2024-02-14T12:44:27.033043",
     "exception": false,
     "start_time": "2024-02-14T12:44:26.989317",
     "status": "completed"
    },
    "tags": []
   },
   "outputs": [],
   "source": [
    "x_tr, x_va2, y_tr, y_va2 = train_test_split(x_train,\n",
    "                                            y_train,\n",
    "                                            test_size=0.2,\n",
    "                                            shuffle=True,\n",
    "                                            stratify=y_train,\n",
    "                                            random_state=123)\n",
    "print(x_tr.shape, y_tr.shape)\n",
    "print(x_va2.shape, y_va2.shape)"
   ]
  },
  {
   "cell_type": "markdown",
   "id": "de11b751",
   "metadata": {
    "papermill": {
     "duration": 0.022775,
     "end_time": "2024-02-14T12:44:27.078766",
     "exception": false,
     "start_time": "2024-02-14T12:44:27.055991",
     "status": "completed"
    },
    "tags": []
   },
   "source": [
    "#### スクリプト4-18: 学習データと検証データの分割（ホールドアウト検証）"
   ]
  },
  {
   "cell_type": "code",
   "execution_count": null,
   "id": "59108d79",
   "metadata": {
    "execution": {
     "iopub.execute_input": "2024-02-14T12:44:27.126769Z",
     "iopub.status.busy": "2024-02-14T12:44:27.126360Z",
     "iopub.status.idle": "2024-02-14T12:44:27.143215Z",
     "shell.execute_reply": "2024-02-14T12:44:27.141912Z"
    },
    "papermill": {
     "duration": 0.043668,
     "end_time": "2024-02-14T12:44:27.145601",
     "exception": false,
     "start_time": "2024-02-14T12:44:27.101933",
     "status": "completed"
    },
    "tags": []
   },
   "outputs": [],
   "source": [
    "x_tr1, x_va1, y_tr1, y_va1 = train_test_split(x_tr,\n",
    "                                              y_tr,\n",
    "                                              test_size=0.2,\n",
    "                                              shuffle=True,\n",
    "                                              stratify=y_tr,\n",
    "                                              random_state=789)\n",
    "print(x_tr1.shape, y_tr1.shape)\n",
    "print(x_va1.shape, y_va1.shape)"
   ]
  },
  {
   "cell_type": "markdown",
   "id": "926cddac",
   "metadata": {
    "papermill": {
     "duration": 0.024066,
     "end_time": "2024-02-14T12:44:27.193150",
     "exception": false,
     "start_time": "2024-02-14T12:44:27.169084",
     "status": "completed"
    },
    "tags": []
   },
   "source": [
    "#### スクリプト4-19: モデル学習（ホールドアウト検証）"
   ]
  },
  {
   "cell_type": "code",
   "execution_count": null,
   "id": "99e75a58",
   "metadata": {
    "execution": {
     "iopub.execute_input": "2024-02-14T12:44:27.244208Z",
     "iopub.status.busy": "2024-02-14T12:44:27.243366Z",
     "iopub.status.idle": "2024-02-14T12:44:27.555474Z",
     "shell.execute_reply": "2024-02-14T12:44:27.554467Z"
    },
    "papermill": {
     "duration": 0.339845,
     "end_time": "2024-02-14T12:44:27.557775",
     "exception": false,
     "start_time": "2024-02-14T12:44:27.217930",
     "status": "completed"
    },
    "tags": []
   },
   "outputs": [],
   "source": [
    "params = {\n",
    "    'boosting_type': 'gbdt',\n",
    "    'objective': 'binary', \n",
    "    'metric': 'auc',\n",
    "    'learning_rate': 0.1,\n",
    "    'num_leaves': 16,\n",
    "    'n_estimators': 100000,\n",
    "    \"random_state\": 123,\n",
    "    \"importance_type\": \"gain\",\n",
    "}\n",
    "model = lgb.LGBMClassifier(**params)\n",
    "model.fit(x_tr1,\n",
    "          y_tr1,\n",
    "          eval_set=[(x_tr1,y_tr1), (x_va1,y_va1)],\n",
    "          early_stopping_rounds=100,\n",
    "          verbose=10,\n",
    "         )\n",
    "\n",
    "# # 2024/02/14環境で動かしたい場合はこのコードを利用してください。\n",
    "# model.fit(x_tr1,\n",
    "#           y_tr1,\n",
    "#           eval_set=[(x_tr1,y_tr1), (x_va1,y_va1)],\n",
    "#           callbacks=[\n",
    "#               lgb.early_stopping(stopping_rounds=100, verbose=True),\n",
    "#               lgb.log_evaluation(10),\n",
    "#           ],\n",
    "#          )"
   ]
  },
  {
   "cell_type": "markdown",
   "id": "ec8e41b9",
   "metadata": {
    "papermill": {
     "duration": 0.025497,
     "end_time": "2024-02-14T12:44:27.608088",
     "exception": false,
     "start_time": "2024-02-14T12:44:27.582591",
     "status": "completed"
    },
    "tags": []
   },
   "source": [
    "#### スクリプト4-20: 検証データとベースライン検証用データの予測値算出"
   ]
  },
  {
   "cell_type": "code",
   "execution_count": 21,
   "id": "12e6f677",
   "metadata": {
    "execution": {
     "iopub.execute_input": "2024-02-14T12:44:27.657836Z",
     "iopub.status.busy": "2024-02-14T12:44:27.657427Z",
     "iopub.status.idle": "2024-02-14T12:44:27.668648Z",
     "shell.execute_reply": "2024-02-14T12:44:27.667488Z"
    },
    "papermill": {
     "duration": 0.039372,
     "end_time": "2024-02-14T12:44:27.671214",
     "exception": false,
     "start_time": "2024-02-14T12:44:27.631842",
     "status": "completed"
    },
    "tags": []
   },
   "outputs": [],
   "source": [
    "y_va1_pred = model.predict(x_va1)\n",
    "y_va2_pred = model.predict(x_va2)"
   ]
  },
  {
   "cell_type": "markdown",
   "id": "42054bfe",
   "metadata": {
    "papermill": {
     "duration": 0.023765,
     "end_time": "2024-02-14T12:44:27.719102",
     "exception": false,
     "start_time": "2024-02-14T12:44:27.695337",
     "status": "completed"
    },
    "tags": []
   },
   "source": [
    "#### スクリプト4-21: モデル精度の比較"
   ]
  },
  {
   "cell_type": "code",
   "execution_count": null,
   "id": "3e4d5a83",
   "metadata": {
    "execution": {
     "iopub.execute_input": "2024-02-14T12:44:27.768718Z",
     "iopub.status.busy": "2024-02-14T12:44:27.768298Z",
     "iopub.status.idle": "2024-02-14T12:44:27.777184Z",
     "shell.execute_reply": "2024-02-14T12:44:27.776066Z"
    },
    "papermill": {
     "duration": 0.036492,
     "end_time": "2024-02-14T12:44:27.779545",
     "exception": false,
     "start_time": "2024-02-14T12:44:27.743053",
     "status": "completed"
    },
    "tags": []
   },
   "outputs": [],
   "source": [
    "print(\"[検証データ] acc: {:.4f}\".format(accuracy_score(y_va1, y_va1_pred)))\n",
    "print(\"[ベースライン検証用データ] acc: {:.4f}\".format(accuracy_score(y_va2, y_va2_pred)))"
   ]
  },
  {
   "cell_type": "markdown",
   "id": "287816a6",
   "metadata": {
    "papermill": {
     "duration": 0.023621,
     "end_time": "2024-02-14T12:44:27.827685",
     "exception": false,
     "start_time": "2024-02-14T12:44:27.804064",
     "status": "completed"
    },
    "tags": []
   },
   "source": [
    "#### スクリプト4-22: 誤差分布の比較"
   ]
  },
  {
   "cell_type": "code",
   "execution_count": null,
   "id": "dc359ef8",
   "metadata": {
    "execution": {
     "iopub.execute_input": "2024-02-14T12:44:27.877868Z",
     "iopub.status.busy": "2024-02-14T12:44:27.877405Z",
     "iopub.status.idle": "2024-02-14T12:44:27.891313Z",
     "shell.execute_reply": "2024-02-14T12:44:27.890308Z"
    },
    "papermill": {
     "duration": 0.041655,
     "end_time": "2024-02-14T12:44:27.893804",
     "exception": false,
     "start_time": "2024-02-14T12:44:27.852149",
     "status": "completed"
    },
    "tags": []
   },
   "outputs": [],
   "source": [
    "print(\"検証データ\")\n",
    "print(confusion_matrix(y_va1, y_va1_pred))\n",
    "print(confusion_matrix(y_va1, y_va1_pred, normalize=\"all\"))\n",
    "print(\"ベースライン検証用データ\")\n",
    "print(confusion_matrix(y_va2, y_va2_pred))\n",
    "print(confusion_matrix(y_va2, y_va2_pred, normalize=\"all\"))"
   ]
  },
  {
   "cell_type": "markdown",
   "id": "9f035d87",
   "metadata": {
    "papermill": {
     "duration": 0.023847,
     "end_time": "2024-02-14T12:44:27.942157",
     "exception": false,
     "start_time": "2024-02-14T12:44:27.918310",
     "status": "completed"
    },
    "tags": []
   },
   "source": [
    "#### スクリプト4-23: 予測値の分布比較"
   ]
  },
  {
   "cell_type": "code",
   "execution_count": null,
   "id": "f50b8a7a",
   "metadata": {
    "execution": {
     "iopub.execute_input": "2024-02-14T12:44:27.992720Z",
     "iopub.status.busy": "2024-02-14T12:44:27.992293Z",
     "iopub.status.idle": "2024-02-14T12:44:28.716870Z",
     "shell.execute_reply": "2024-02-14T12:44:28.715788Z"
    },
    "papermill": {
     "duration": 0.753098,
     "end_time": "2024-02-14T12:44:28.719387",
     "exception": false,
     "start_time": "2024-02-14T12:44:27.966289",
     "status": "completed"
    },
    "tags": []
   },
   "outputs": [],
   "source": [
    "# 予測値の確率値算出\n",
    "y_va1_pred_prob = model.predict_proba(x_va1)[:,1]\n",
    "y_va2_pred_prob = model.predict_proba(x_va2)[:,1]\n",
    "\n",
    "# 確率値をヒストグラムで可視化\n",
    "fig = plt.figure(figsize=(10,8))\n",
    "# 検証データ\n",
    "fig.add_subplot(2,1,1)\n",
    "plt.title(\"検証データ\")\n",
    "plt.hist(y_va1_pred_prob[np.array(y_va1).reshape(-1)==1], bins=10, alpha=0.5, label=\"1\")\n",
    "plt.hist(y_va1_pred_prob[np.array(y_va1).reshape(-1)==0], bins=10, alpha=0.5, label=\"0\")\n",
    "plt.grid()\n",
    "plt.legend()\n",
    "# ベースライン検証用データ\n",
    "fig.add_subplot(2,1,2)\n",
    "plt.title(\"ベースライン検証用データ\")\n",
    "plt.hist(y_va2_pred_prob[np.array(y_va2).reshape(-1)==1], bins=10, alpha=0.5, label=\"1\")\n",
    "plt.hist(y_va2_pred_prob[np.array(y_va2).reshape(-1)==0], bins=10, alpha=0.5, label=\"0\")\n",
    "plt.grid()\n",
    "plt.legend()"
   ]
  },
  {
   "cell_type": "markdown",
   "id": "b40572b0",
   "metadata": {
    "papermill": {
     "duration": 0.024555,
     "end_time": "2024-02-14T12:44:28.770842",
     "exception": false,
     "start_time": "2024-02-14T12:44:28.746287",
     "status": "completed"
    },
    "tags": []
   },
   "source": [
    "# 4.8 モデル推論\n",
    "## 4.8.1 推論データセット作成\n",
    "#### スクリプト4-24: 推論用データセットの作成"
   ]
  },
  {
   "cell_type": "code",
   "execution_count": 25,
   "id": "99c1dd72",
   "metadata": {
    "execution": {
     "iopub.execute_input": "2024-02-14T12:44:28.822443Z",
     "iopub.status.busy": "2024-02-14T12:44:28.822033Z",
     "iopub.status.idle": "2024-02-14T12:44:28.837376Z",
     "shell.execute_reply": "2024-02-14T12:44:28.836346Z"
    },
    "papermill": {
     "duration": 0.044297,
     "end_time": "2024-02-14T12:44:28.839901",
     "exception": false,
     "start_time": "2024-02-14T12:44:28.795604",
     "status": "completed"
    },
    "tags": []
   },
   "outputs": [],
   "source": [
    "df_test = pd.read_csv(\"../input/titanic/test.csv\")\n",
    "x_test = df_test[[\"Pclass\", \"Fare\"]]\n",
    "id_test = df_test[[\"PassengerId\"]]"
   ]
  },
  {
   "cell_type": "markdown",
   "id": "5230331b",
   "metadata": {
    "papermill": {
     "duration": 0.024704,
     "end_time": "2024-02-14T12:44:28.890019",
     "exception": false,
     "start_time": "2024-02-14T12:44:28.865315",
     "status": "completed"
    },
    "tags": []
   },
   "source": [
    "## 4.8.2 学習済モデルを用いた推論\n",
    "#### スクリプト4-25: 学習モデルによる推論"
   ]
  },
  {
   "cell_type": "code",
   "execution_count": 26,
   "id": "2d52c3ef",
   "metadata": {
    "execution": {
     "iopub.execute_input": "2024-02-14T12:44:28.942183Z",
     "iopub.status.busy": "2024-02-14T12:44:28.941534Z",
     "iopub.status.idle": "2024-02-14T12:44:28.950072Z",
     "shell.execute_reply": "2024-02-14T12:44:28.948840Z"
    },
    "papermill": {
     "duration": 0.037095,
     "end_time": "2024-02-14T12:44:28.952546",
     "exception": false,
     "start_time": "2024-02-14T12:44:28.915451",
     "status": "completed"
    },
    "tags": []
   },
   "outputs": [],
   "source": [
    "y_test_pred = model.predict(x_test)"
   ]
  },
  {
   "cell_type": "markdown",
   "id": "3180e39e",
   "metadata": {
    "papermill": {
     "duration": 0.025518,
     "end_time": "2024-02-14T12:44:29.003056",
     "exception": false,
     "start_time": "2024-02-14T12:44:28.977538",
     "status": "completed"
    },
    "tags": []
   },
   "source": [
    "#### スクリプト4-26: 提出用ファイルの作成"
   ]
  },
  {
   "cell_type": "code",
   "execution_count": null,
   "id": "372dfbf8",
   "metadata": {
    "execution": {
     "iopub.execute_input": "2024-02-14T12:44:29.056344Z",
     "iopub.status.busy": "2024-02-14T12:44:29.055047Z",
     "iopub.status.idle": "2024-02-14T12:44:29.071948Z",
     "shell.execute_reply": "2024-02-14T12:44:29.070821Z"
    },
    "papermill": {
     "duration": 0.045839,
     "end_time": "2024-02-14T12:44:29.074499",
     "exception": false,
     "start_time": "2024-02-14T12:44:29.028660",
     "status": "completed"
    },
    "tags": []
   },
   "outputs": [],
   "source": [
    "df_submit = pd.DataFrame({\"PassengerId\":id_test[\"PassengerId\"], \"Survived\":y_test_pred})\n",
    "display(df_submit.head(5))\n",
    "df_submit.to_csv(\"submission_baseline.csv\", index=None)"
   ]
  },
  {
   "cell_type": "code",
   "execution_count": null,
   "id": "936548c1",
   "metadata": {
    "papermill": {
     "duration": 0.025841,
     "end_time": "2024-02-14T12:44:29.126976",
     "exception": false,
     "start_time": "2024-02-14T12:44:29.101135",
     "status": "completed"
    },
    "tags": []
   },
   "outputs": [],
   "source": []
  }
 ],
 "metadata": {
  "kaggle": {
   "accelerator": "none",
   "dataSources": [
    {
     "databundleVersionId": 26502,
     "sourceId": 3136,
     "sourceType": "competition"
    }
   ],
   "isGpuEnabled": false,
   "isInternetEnabled": true,
   "language": "python",
   "sourceType": "notebook"
  },
  "kernelspec": {
   "display_name": "Python 3",
   "language": "python",
   "name": "python3"
  },
  "language_info": {
   "codemirror_mode": {
    "name": "ipython",
    "version": 3
   },
   "file_extension": ".py",
   "mimetype": "text/x-python",
   "name": "python",
   "nbconvert_exporter": "python",
   "pygments_lexer": "ipython3",
   "version": "3.10.13"
  },
  "papermill": {
   "default_parameters": {},
   "duration": 97.621719,
   "end_time": "2024-02-14T12:44:30.277776",
   "environment_variables": {},
   "exception": null,
   "input_path": "__notebook__.ipynb",
   "output_path": "__notebook__.ipynb",
   "parameters": {},
   "start_time": "2024-02-14T12:42:52.656057",
   "version": "2.5.0"
  }
 },
 "nbformat": 4,
 "nbformat_minor": 5
}
