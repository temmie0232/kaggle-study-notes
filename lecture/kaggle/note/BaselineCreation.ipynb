{
 "cells": [
  {
   "cell_type": "markdown",
   "metadata": {},
   "source": [
    "<br>\n",
    "<details open><summary>ファイルの読み込み</summary>\n",
    "\n",
    "データセットのファイルを読み込む\n",
    "</details>\n",
    "<br>\n",
    "<details open><summary>データセットの確認</summary>\n",
    "\n",
    "データの 形 / 型 / 欠損値 などを確認する\n",
    "</details>\n",
    "<br>\n",
    "<details open><summary>データセットの作成</summary>\n",
    "\n",
    "- 使用する目的変数と説明変数を決定\n",
    "- 元データセットから新しくtrainデータセットとvalidateデータセットを作成する\n",
    "- ベースライン評価する場合はベースライン評価用validateデータセットも作成する\n",
    "</details>\n",
    "<br>\n",
    "<details open><summary>バリデーション設計</summary>\n",
    "\n",
    "- バリデーション方法を選択\n",
    "- trainデータを学習データと検証データに分割する\n",
    "</details>\n",
    "<br>\n",
    "<details open><summary>モデル学習</summary>\n",
    "\n",
    "- モデルの学習を行う\n",
    "- モデルの精度を確認する\n",
    "- 検証データとベースライン検証用データの予測結果を比較し、ベースラインの評価を行う\n",
    "</details>\n",
    "<br>\n",
    "<details open><summary>モデルで推論</summary>\n",
    "\n",
    "- 学習したモデルをtestデータに適用し、予測する\n",
    "- 予測した結果を提出用ファイルとして保存する\n",
    "</details>\n"
   ]
  },
  {
   "cell_type": "markdown",
   "metadata": {},
   "source": [
    "---"
   ]
  },
  {
   "cell_type": "markdown",
   "metadata": {},
   "source": [
    "## バリデーション設計\n",
    "- 作成したモデルの精度を手元のデータで判断する (-> 検証データの作成)\n",
    "- 未知のデータに対する性能を確認する"
   ]
  },
  {
   "cell_type": "markdown",
   "metadata": {},
   "source": [
    "<img src=\"../note/images/20241219_093344.png\" width=\"500\" height=\"300\">"
   ]
  },
  {
   "cell_type": "markdown",
   "metadata": {},
   "source": [
    "### データの分割方法 (学習データ/検証データ)"
   ]
  },
  {
   "cell_type": "markdown",
   "metadata": {},
   "source": [
    "#### 不均衡データの扱い方\n",
    "0,1の二値データの中である値が極端に少ない場合（例：10,000件中5,000件が「1」） <br>\n",
    "-> **学習データと検証データで同じような比率を保つ**"
   ]
  },
  {
   "cell_type": "markdown",
   "metadata": {},
   "source": [
    "<img src=\"../note/images/20241219_094024.png\" width=\"500\" height=\"350\">"
   ]
  },
  {
   "cell_type": "markdown",
   "metadata": {},
   "source": [
    "#### 顧客データの分け方\n",
    "顧客データを分ける場合 <br>\n",
    "-> **同じ顧客のデータが学習と検証で混ざらないようにする**\n"
   ]
  },
  {
   "cell_type": "markdown",
   "metadata": {},
   "source": [
    "<img src=\"../note/images/20241219_094335.png\" width=\"500\" height=\"230\">"
   ]
  },
  {
   "cell_type": "markdown",
   "metadata": {},
   "source": [
    "#### 時系列データの分け方\n",
    "時間に関連するデータ（例：電力使用量の予測）の場合の分け方\n",
    "- 未来のデータを使って過去を予測するのは避ける\n",
    "- 時系列順を考慮して分割する必要がある\n",
    "- 例えば、1-6月のデータで学習し、7-9月のデータで検証するような形"
   ]
  },
  {
   "cell_type": "markdown",
   "metadata": {},
   "source": [
    "<img src=\"../note/images/20241219_094721.png\" width=\"500\" height=\"300\">"
   ]
  },
  {
   "cell_type": "markdown",
   "metadata": {},
   "source": [
    "### 検証の信頼性の向上"
   ]
  },
  {
   "cell_type": "markdown",
   "metadata": {},
   "source": [
    "<img src=\"../note/images/20241219_100933.png\" width=\"500\" height=\"130\">"
   ]
  },
  {
   "cell_type": "markdown",
   "metadata": {},
   "source": [
    "#### ホールドアウト検証\n",
    "- データを「訓練データ」と「検証データ」に一回だけ分割する最も単純な方法  \n",
    "- 一般的な分割比率は7:3や8:2（訓練：検証）  \n",
    "<img src=\"../note/images/20241219_100042.png\" width=\"500\" height=\"150\"> <br>\n",
    "使い分けの指針  \n",
    "- データ量が十分にある\n",
    "- 計算時間を節約したい\n",
    "- 簡単な実験や初期検証"
   ]
  },
  {
   "cell_type": "markdown",
   "metadata": {},
   "source": [
    "#### クロスバリデーション\n",
    "- データをk個のグループ（フォールド）に分割\n",
    "- k-1個を訓練に使い、残り1個を検証に使用\n",
    "- これをk回繰り返し、平均を取る  \n",
    "<img src=\"../note/images/20241219_100101.png\" width=\"500\" height=\"300\"> <br>\n",
    "使い分けの指針  \n",
    "- データ量が限られている\n",
    "- より正確な性能評価が必要\n",
    "- モデルの安定性を確認したい"
   ]
  },
  {
   "cell_type": "markdown",
   "metadata": {},
   "source": [
    "---"
   ]
  },
  {
   "cell_type": "markdown",
   "metadata": {},
   "source": [
    "## ベースラインの評価"
   ]
  },
  {
   "cell_type": "markdown",
   "metadata": {},
   "source": [
    "データセットを以下の三つに分割する\n",
    "- ベースライン検証用データ\n",
    "- 学習データ\n",
    "- 検証データ"
   ]
  },
  {
   "cell_type": "markdown",
   "metadata": {},
   "source": [
    "\n",
    "<img src=\"../note/images/20241219_182106.png\" width=\"500\" height=\"240\"> <br>"
   ]
  },
  {
   "cell_type": "markdown",
   "metadata": {},
   "source": [
    "1. モデルの精度の評価\n",
    "- 検証データとベースライン検証用データの精度のギャップを確認します\n",
    "- 評価指標（例：正解率）を計算して比較します\n",
    "- ギャップが小さいほど、モデルが安定していると判断できます\n",
    "\n",
    "2. 誤差の分布の評価\n",
    "- 検証データとベースライン検証用データで誤差の傾向を比較します\n",
    "- 分類タスクの場合：混同行列を作成して比較分析を行います\n",
    "- 回帰タスクの場合：誤差の値やヒストグラムの分布を比較します\n",
    "- 両者の誤差パターンが似ているかを確認することで、モデルの一貫性を評価します\n",
    "\n",
    "3. 予測値の分布の評価\n",
    "- 検証データとベースライン検証用データの予測値分布を可視化して比較します\n",
    "- 分類タスクの場合：各正解ラベルごとに予測値のヒストグラムを描いて比較します\n",
    "- 回帰タスクの場合：正解と予測値の散布図を作成して比較します\n",
    "- 分布が類似していれば、モデルが安定して予測を行えていると判断できます\n",
    "\n",
    "これらの3つの観点を総合的に評価することで、モデルの性能が本当に安定しているのか、信頼できるのかを判断します。もし大きな差異が見られる場合は、モデルの再調整や追加の検証が必要となる可能性があります。"
   ]
  }
 ],
 "metadata": {
  "language_info": {
   "name": "python"
  }
 },
 "nbformat": 4,
 "nbformat_minor": 2
}
